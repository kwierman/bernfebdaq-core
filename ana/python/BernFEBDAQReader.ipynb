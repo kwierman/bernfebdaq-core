{
 "cells": [
  {
   "cell_type": "code",
   "execution_count": 1,
   "metadata": {},
   "outputs": [
    {
     "data": {
      "application/javascript": [
       "\n",
       "require(['notebook'],\n",
       "  function() {\n",
       "    IPython.CodeCell.config_defaults.highlight_modes['magic_text/x-c++src'] = {'reg':[/^%%cpp/]};\n",
       "    console.log(\"JupyROOT - %%cpp magic configured\");\n",
       "  }\n",
       ");\n"
      ]
     },
     "metadata": {},
     "output_type": "display_data"
    },
    {
     "name": "stdout",
     "output_type": "stream",
     "text": [
      "Welcome to JupyROOT 6.08/06\n"
     ]
    }
   ],
   "source": [
    "import ROOT\n",
    "ROOT.gStyle.SetOptStat(0)\n",
    "ROOT.ErrorIgnoreLevel=ROOT.kWarning\n",
    "#ROOT.gSystem.Load(\"$BERNFEBDAQ_CORE_LIB/libbernfebdaq-core_Overlays.dylib\")"
   ]
  },
  {
   "cell_type": "code",
   "execution_count": 2,
   "metadata": {
    "collapsed": true
   },
   "outputs": [],
   "source": [
    "def read_header(h):\n",
    "        \"\"\"Make the ROOT C++ jit compiler read the specified header.\"\"\"\n",
    "        ROOT.gROOT.ProcessLine('#include \"%s\"' % h)\n",
    "\n",
    "def provide_get_valid_handle(klass):\n",
    "        \"\"\"Make the ROOT C++ jit compiler instantiate the\n",
    "           Event::getValidHandle member template for template\n",
    "           parameter klass.\"\"\"\n",
    "        ROOT.gROOT.ProcessLine('template gallery::ValidHandle<%(name)s> gallery::Event::getValidHandle<%(name)s>(art::InputTag const&) const;' % {'name' : klass})\n",
    "\n",
    "read_header('gallery/ValidHandle.h')"
   ]
  },
  {
   "cell_type": "code",
   "execution_count": 3,
   "metadata": {},
   "outputs": [],
   "source": [
    "#ROOT.gSystem.Load(\"/Users/wketchum/dev_areas/bernfebdaq_ana/localProducts_uboonecode_v06_36_00_e14_prof/bernfebdaq_core/v00_04_00/d15.x86_64.e14.nu.s48.prof/lib/libbernfebdaq-core_Overlays.dylib\")\n",
    "ROOT.gSystem.Load(\"$BERNFEBDAQ_CORE_LIB/libbernfebdaq-core_Overlays.dylib\")\n",
    "ROOT.gSystem.Load(\"$BERNFEBDAQ_CORE_LIB/libbernfebdaq-core_Overlays.dylib\")\n",
    "provide_get_valid_handle('std::vector<artdaq::Fragment>')"
   ]
  },
  {
   "cell_type": "code",
   "execution_count": 4,
   "metadata": {},
   "outputs": [
    {
     "name": "stdout",
     "output_type": "stream",
     "text": [
      "Successfully opened file ../bernzmq_artdaq.root\n"
     ]
    }
   ],
   "source": [
    "daq_tag = ROOT.art.InputTag(\"daq:crt03\");\n",
    "filenames = ROOT.vector(ROOT.string)(1,\"../bernzmq_artdaq.root\")\n",
    "ev = ROOT.gallery.Event(filenames)"
   ]
  },
  {
   "cell_type": "code",
   "execution_count": 5,
   "metadata": {
    "collapsed": true
   },
   "outputs": [],
   "source": [
    "get_frags = ev.getValidHandle(ROOT.vector(ROOT.artdaq.Fragment))"
   ]
  },
  {
   "cell_type": "code",
   "execution_count": 6,
   "metadata": {},
   "outputs": [
    {
     "ename": "Exception",
     "evalue": "gallery::ValidHandle<vector<artdaq::Fragment> > gallery::Event::getValidHandle<std::vector<artdaq::Fragment> >(const art::InputTag& inputTag) =>\n    ---- ProductNotFound BEGIN\n  Failed to find product for \n    type = 'std::vector<artdaq::Fragment>'\n    module = 'daq'\n    productInstance = 'crt03'\n    process=''\n---- ProductNotFound END\n (C++ exception of type cet::coded_exception<art::errors::ErrorCodes, &art::ExceptionDetail::translate[abi:cxx11]>)",
     "output_type": "error",
     "traceback": [
      "\u001b[0;31m\u001b[0m",
      "\u001b[0;31mException\u001b[0mTraceback (most recent call last)",
      "\u001b[0;32m<ipython-input-6-94178b0f5614>\u001b[0m in \u001b[0;36m<module>\u001b[0;34m()\u001b[0m\n\u001b[1;32m      1\u001b[0m \u001b[0;32mwhile\u001b[0m \u001b[0;34m(\u001b[0m\u001b[0;32mnot\u001b[0m \u001b[0mev\u001b[0m\u001b[0;34m.\u001b[0m\u001b[0matEnd\u001b[0m\u001b[0;34m(\u001b[0m\u001b[0;34m)\u001b[0m\u001b[0;34m)\u001b[0m \u001b[0;34m:\u001b[0m\u001b[0;34m\u001b[0m\u001b[0m\n\u001b[0;32m----> 2\u001b[0;31m         \u001b[0mrawfrags\u001b[0m \u001b[0;34m=\u001b[0m \u001b[0mget_frags\u001b[0m\u001b[0;34m(\u001b[0m\u001b[0mdaq_tag\u001b[0m\u001b[0;34m)\u001b[0m\u001b[0;34m\u001b[0m\u001b[0m\n\u001b[0m\u001b[1;32m      3\u001b[0m         \u001b[0;32mprint\u001b[0m \u001b[0;34m\"There are %d frags in this event.\"\u001b[0m \u001b[0;34m%\u001b[0m \u001b[0mrawfrags\u001b[0m\u001b[0;34m.\u001b[0m\u001b[0msize\u001b[0m\u001b[0;34m(\u001b[0m\u001b[0;34m)\u001b[0m\u001b[0;34m\u001b[0m\u001b[0m\n\u001b[1;32m      4\u001b[0m         \u001b[0;32mfor\u001b[0m \u001b[0mrawfrag\u001b[0m \u001b[0;32min\u001b[0m \u001b[0mrawfrags\u001b[0m\u001b[0;34m.\u001b[0m\u001b[0mproduct\u001b[0m\u001b[0;34m(\u001b[0m\u001b[0;34m)\u001b[0m\u001b[0;34m:\u001b[0m\u001b[0;34m\u001b[0m\u001b[0m\n\u001b[1;32m      5\u001b[0m             \u001b[0mmyfrag\u001b[0m \u001b[0;34m=\u001b[0m \u001b[0mROOT\u001b[0m\u001b[0;34m.\u001b[0m\u001b[0mbernfebdaq\u001b[0m\u001b[0;34m.\u001b[0m\u001b[0mBernZMQFragment\u001b[0m\u001b[0;34m(\u001b[0m\u001b[0mrawfrag\u001b[0m\u001b[0;34m)\u001b[0m\u001b[0;34m\u001b[0m\u001b[0m\n",
      "\u001b[0;31mException\u001b[0m: gallery::ValidHandle<vector<artdaq::Fragment> > gallery::Event::getValidHandle<std::vector<artdaq::Fragment> >(const art::InputTag& inputTag) =>\n    ---- ProductNotFound BEGIN\n  Failed to find product for \n    type = 'std::vector<artdaq::Fragment>'\n    module = 'daq'\n    productInstance = 'crt03'\n    process=''\n---- ProductNotFound END\n (C++ exception of type cet::coded_exception<art::errors::ErrorCodes, &art::ExceptionDetail::translate[abi:cxx11]>)"
     ]
    }
   ],
   "source": [
    "while (not ev.atEnd()) :\n",
    "        rawfrags = get_frags(daq_tag)\n",
    "        print \"There are %d frags in this event.\" % rawfrags.size()\n",
    "        for rawfrag in rawfrags.product():\n",
    "            myfrag = ROOT.bernfebdaq.BernZMQFragment(rawfrag)\n",
    "            print myfrag\n",
    "\n",
    "        # The Assns<> involved in demo.cc appears to be inaccessible\n",
    "        # from PyROOT at this time, because of PyROOT's incomplete\n",
    "        # object model.\n",
    "        ev.next()"
   ]
  },
  {
   "cell_type": "code",
   "execution_count": null,
   "metadata": {
    "collapsed": true
   },
   "outputs": [],
   "source": []
  },
  {
   "cell_type": "code",
   "execution_count": null,
   "metadata": {},
   "outputs": [],
   "source": [
    "#%%cpp -a\n",
    "#include \"bernfebdaq_ReadEvents.h\""
   ]
  },
  {
   "cell_type": "markdown",
   "metadata": {},
   "source": [
    "%%cpp\n",
    "  \n",
    "gStyle->SetOptStat(0);\n",
    "\n",
    "std::vector<std::string> filenames;\n",
    "filenames.push_back(\"../bernzmq_artdaq.root\");\n",
    "\n",
    "art::InputTag daqTag(\"daq:crt03\");\n",
    "\n",
    "for (gallery::Event ev(filenames) ; !ev.atEnd(); ev.next()) {\n",
    "\n",
    "    std::cout << \"Processing \"\n",
    "              << \"Run \" << ev.eventAuxiliary().run() << \", \"\n",
    "              << \"Event \" << ev.eventAuxiliary().event() << \", \"\n",
    "              << \"Time \" << ev.eventAuxiliary().time().timeHigh() << std::endl;\n",
    "\n",
    "    auto const& daq_handle = ev.getValidHandle<vector<artdaq::Fragment>>(daqTag);\n",
    "  /*\n",
    "    for(auto const& rawfrag : *daq_handle){\n",
    "        bernfebdaq::BernZMQFragment frag(rawfrag);\n",
    "        //std::cout << frag << std::endl;\n",
    "    }\n",
    "  */  \n",
    "    \n",
    "} //end loop over events!\n"
   ]
  },
  {
   "cell_type": "code",
   "execution_count": null,
   "metadata": {
    "collapsed": true
   },
   "outputs": [],
   "source": []
  }
 ],
 "metadata": {
  "kernelspec": {
   "display_name": "Python 2",
   "language": "python",
   "name": "python2"
  },
  "language_info": {
   "codemirror_mode": {
    "name": "ipython",
    "version": 2
   },
   "file_extension": ".py",
   "mimetype": "text/x-python",
   "name": "python",
   "nbconvert_exporter": "python",
   "pygments_lexer": "ipython2",
   "version": "2.7.13"
  }
 },
 "nbformat": 4,
 "nbformat_minor": 2
}
